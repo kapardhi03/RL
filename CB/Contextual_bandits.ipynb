{
  "nbformat": 4,
  "nbformat_minor": 0,
  "metadata": {
    "colab": {
      "provenance": [],
      "gpuType": "T4"
    },
    "kernelspec": {
      "name": "python3",
      "display_name": "Python 3"
    },
    "language_info": {
      "name": "python"
    },
    "accelerator": "GPU"
  },
  "cells": [
    {
      "cell_type": "code",
      "execution_count": 1,
      "metadata": {
        "id": "NClquq_JQ3xV"
      },
      "outputs": [],
      "source": [
        "import torch\n",
        "import torch.nn as nn\n",
        "import torch.optim as optim\n",
        "import numpy as np\n",
        "import matplotlib.pyplot as plt"
      ]
    },
    {
      "cell_type": "code",
      "source": [
        "class ContextualBandit:\n",
        "  def __init__(self, num_contexts, num_actions):\n",
        "    self.num_contexts = num_contexts\n",
        "    self.num_actions = num_actions\n",
        "    self.bandits = np.random.randn(num_contexts, num_actions)\n",
        "\n",
        "  def get_context(self):\n",
        "    return np.random.randint(0, self.num_contexts)\n",
        "\n",
        "  def get_action(self, context):\n",
        "    return np.random.randint(0, self.num_actions)\n",
        "\n",
        "  def pull_arm(self, context, action):\n",
        "    # return 1 if np.random.randn(1) > self.bandits[context, action] else -1\n",
        "    return 1 if np.random.randn() < (self.bandits[context, action]+1)/2 else 0"
      ],
      "metadata": {
        "id": "Ss0fpLWzRPwp"
      },
      "execution_count": 2,
      "outputs": []
    },
    {
      "cell_type": "markdown",
      "source": [
        "##Agents"
      ],
      "metadata": {
        "id": "__xhrmfYXdPR"
      }
    },
    {
      "cell_type": "code",
      "source": [
        "class Agent(nn.Module):\n",
        "  def __init__(self, num_contexts, num_actions, learning_rate):\n",
        "      super(Agent, self).__init__()\n",
        "      self.state_embedding = nn.Embedding(num_contexts, 10)\n",
        "      self.fc = nn.Linear(10, num_actions)\n",
        "      self.optimizer = optim.Adam(self.parameters(), lr=learning_rate)\n",
        "      self.loss_fn = nn.MSELoss()\n",
        "\n",
        "  def forward(self, state):\n",
        "      embedded_state = self.state_embedding(state)\n",
        "      return self.fc(embedded_state)\n",
        "\n",
        "  def update(self, state, action, reward):\n",
        "      state = torch.tensor([state], dtype=torch.long)\n",
        "      action = torch.tensor([action], dtype=torch.long)\n",
        "      reward = torch.tensor([reward], dtype=torch.float)\n",
        "\n",
        "      q_values = self(state)\n",
        "      q_value = q_values.gather(1, action.unsqueeze(1)).squeeze(1)\n",
        "      loss = self.loss_fn(q_value, reward)\n",
        "\n",
        "      self.optimizer.zero_grad()\n",
        "      loss.backward()\n",
        "      self.optimizer.step()\n",
        "\n",
        "      return loss.item()\n"
      ],
      "metadata": {
        "id": "GPQIAgPlSDat"
      },
      "execution_count": 36,
      "outputs": []
    },
    {
      "cell_type": "code",
      "source": [
        "class EpsilonGreedyAgent(Agent):\n",
        "  def choose_action(self, state, epsilon):\n",
        "    if np.random.rand() < epsilon:\n",
        "      return np.random.randint(0, self.fc.out_features)\n",
        "    else:\n",
        "      with torch.no_grad():\n",
        "        q_values = self.forward(state)\n",
        "        return torch.argmax(q_values).item()\n",
        "\n",
        "  def update(self, state, action, reward):\n",
        "    state = torch.tensor([state], dtype=torch.long)\n",
        "    action = torch.tensor([action], dtype=torch.long)\n",
        "    reward = torch.tensor([reward], dtype=torch.float)\n",
        "\n",
        "    q_values = self(state)\n",
        "    q_value = q_values.gather(1, action.unsqueeze(1)).squeeze(1)\n",
        "    loss = nn.MSELoss()(q_value, reward)\n",
        "\n",
        "    self.optimizer.zero_grad()\n",
        "    loss.backward()\n",
        "    self.optimizer.step()\n",
        "\n",
        "    return loss.item()\n"
      ],
      "metadata": {
        "id": "RtBRad_wS3ZD"
      },
      "execution_count": 37,
      "outputs": []
    },
    {
      "cell_type": "code",
      "source": [
        "class UCBAgent(Agent):\n",
        "  def __init__(self, num_contexts, num_actions, learning_rate):\n",
        "    super(UCBAgent, self).__init__(num_contexts, num_actions, learning_rate)\n",
        "    # self.action_counts = np.zeros(num_actions)\n",
        "    self.register_buffer('action_counts', torch.zeros(num_contexts, num_actions))\n",
        "    self.register_buffer('total_rewards', torch.zeros(num_contexts, num_actions))\n",
        "    self.t = 0\n",
        "    self.alpha = torch.ones(num_contexts, num_actions)\n",
        "    self.beta = torch.ones(num_contexts, num_actions)\n",
        "    self.lr = learning_rate\n",
        "\n",
        "  def choose_action(self, state):\n",
        "    self.t += 1\n",
        "    state = torch.tensor([state], dtype=torch.long)\n",
        "    with torch.no_grad():\n",
        "      q_values = self(torch.tensor([state]))\n",
        "      ucb_values = q_values + torch.sqrt(2 * torch.log(torch.tensor(self.t)) / (self.action_counts[state] + 1e-5))\n",
        "      return ucb_values.argmax().item()\n",
        "\n",
        "  def update(self, state, action, reward):\n",
        "    self.action_counts[state, action] += 1\n",
        "    self.total_rewards[state, action] += reward\n",
        "    return super().update(state, action, reward)\n"
      ],
      "metadata": {
        "id": "VkxLvxYaTu9m"
      },
      "execution_count": 48,
      "outputs": []
    },
    {
      "cell_type": "code",
      "source": [
        "class ThompsonSamplingAgent(Agent):\n",
        "  def __init__(self, num_contexts, num_actions, learning_rate):\n",
        "    super(ThompsonSamplingAgent, self).__init__(num_contexts, num_actions, learning_rate)\n",
        "    # Declaring the Alpha and beta for the thompson Sampling\n",
        "    self.register_buffer('alpha', torch.ones(num_contexts, num_actions))\n",
        "    self.register_buffer('beta', torch.ones(num_contexts, num_actions))\n",
        "\n",
        "  def choose_action(self, state):\n",
        "    samples = torch.distributions.Beta(self.alpha[state], self.beta[state]).sample() #Alpha, Beta Transforms for the state\n",
        "    return torch.argmax(samples).item()\n",
        "\n",
        "  def update(self, state, action, reward):\n",
        "    if reward == 1:\n",
        "      self.alpha[state, action] += 1\n",
        "    else:\n",
        "      self.beta[state, action] += 1\n",
        "    return super().update(state, action, reward)"
      ],
      "metadata": {
        "id": "ocrmJR1mUd8r"
      },
      "execution_count": 39,
      "outputs": []
    },
    {
      "cell_type": "markdown",
      "source": [
        "##Training With custom Agent"
      ],
      "metadata": {
        "id": "klnWRKYcVRiA"
      }
    },
    {
      "cell_type": "markdown",
      "source": [
        "###without Early stopping"
      ],
      "metadata": {
        "id": "KmeHIoycn-84"
      }
    },
    {
      "cell_type": "code",
      "source": [
        "def train_agent(agent, env, epochs, epsilon=None):\n",
        "  rewards = []\n",
        "  for epoch in range(epochs):\n",
        "    state = env.get_context()\n",
        "    # print(isinstance(agent, EpsilonGreedyAgent))\n",
        "    if epsilon is not None:\n",
        "      action = agent.choose_action(torch.tensor([state]), epsilon)\n",
        "    else:\n",
        "      action = agent.choose_action(state)\n",
        "\n",
        "    reward = env.pull_arm(state, action)\n",
        "    loss = agent.update(state, action, reward)\n",
        "    rewards.append(reward)\n",
        "\n",
        "    if epoch % 1000 == 0:\n",
        "      print(f\"Epoch: {epoch}, Loss: {loss}, Average Reward: {np.mean(rewards[-1000:]):.4f}\")\n",
        "\n",
        "  return rewards"
      ],
      "metadata": {
        "id": "jCBi-GHlVQHG"
      },
      "execution_count": 51,
      "outputs": []
    },
    {
      "cell_type": "markdown",
      "source": [
        "### Adding Early Stopping"
      ],
      "metadata": {
        "id": "MgYLdYAnoB2u"
      }
    },
    {
      "cell_type": "code",
      "source": [
        "class EarlyStoppingMonitor:\n",
        "  def __init__(self, patience=500, min_delta=0.05): #tweak with the patience and min_delta values\n",
        "    self.patience = patience\n",
        "    self.min_delta = min_delta\n",
        "    self.best_reward = -float('inf')\n",
        "    self.counter = 0\n",
        "    self.best_epoch = 0\n",
        "\n",
        "  def __call__(self, epoch, avg_reward):\n",
        "    if avg_reward > self.best_reward + self.min_delta:\n",
        "      self.best_reward = avg_reward\n",
        "      self.counter = 0\n",
        "      self.best_epoch = epoch\n",
        "    else:\n",
        "      self.counter += 1\n",
        "\n",
        "    if self.counter >= self.patience:\n",
        "      return True\n",
        "    return False"
      ],
      "metadata": {
        "id": "O8emOMcpoLru"
      },
      "execution_count": 64,
      "outputs": []
    },
    {
      "cell_type": "code",
      "source": [
        "def train_agent(agent, env, epochs, epsilon=None, early_stopping=True):\n",
        "    rewards = []\n",
        "    early_stopping_monitor = EarlyStoppingMonitor(patience=1000, min_delta=0.001)\n",
        "\n",
        "    for epoch in range(epochs):\n",
        "        state = env.get_context()\n",
        "        if isinstance(agent, EpsilonGreedyAgent) and epsilon is not None:\n",
        "            action = agent.choose_action(torch.tensor([state]), epsilon)\n",
        "        else:\n",
        "            action = agent.choose_action(state)\n",
        "\n",
        "        reward = env.pull_arm(state, action)\n",
        "        loss = agent.update(state, action, reward)\n",
        "        rewards.append(reward)\n",
        "\n",
        "        if epoch % 1000 == 0:\n",
        "            avg_reward = np.mean(rewards[-1000:])\n",
        "            print(f\"Epoch: {epoch}, Loss: {loss:.4f}, Average Reward: {avg_reward:.4f}\")\n",
        "\n",
        "            if early_stopping and early_stopping_monitor(epoch, avg_reward):\n",
        "                print(f\"Early stopping triggered. Best average reward {early_stopping_monitor.best_reward:.4f} at epoch {early_stopping_monitor.best_epoch}\")\n",
        "                break\n",
        "\n",
        "    return rewards"
      ],
      "metadata": {
        "id": "hSPm3qiIoBes"
      },
      "execution_count": 65,
      "outputs": []
    },
    {
      "cell_type": "markdown",
      "source": [
        "##Plot"
      ],
      "metadata": {
        "id": "KFirwHhRW0B8"
      }
    },
    {
      "cell_type": "code",
      "source": [
        "def plot_results(epsilon_greedy_rewards, ucb_rewards, thompson_rewards):\n",
        "    plt.figure(figsize=(12, 6))\n",
        "    plt.plot(np.cumsum(epsilon_greedy_rewards) / (np.arange(len(epsilon_greedy_rewards)) + 1), label='Epsilon Greedy')\n",
        "    plt.plot(np.cumsum(ucb_rewards) / (np.arange(len(ucb_rewards)) + 1), label='UCB')\n",
        "    plt.plot(np.cumsum(thompson_rewards) / (np.arange(len(thompson_rewards)) + 1), label='Thompson Sampling')\n",
        "    plt.xlabel('Episodes')\n",
        "    plt.ylabel('Average Reward')\n",
        "    plt.title('Contextual Bandit Algorithms Comparison')\n",
        "    plt.legend()\n",
        "    plt.grid(True)\n",
        "    plt.show()"
      ],
      "metadata": {
        "id": "UWBDnX5YWsae"
      },
      "execution_count": 41,
      "outputs": []
    },
    {
      "cell_type": "markdown",
      "source": [
        "## Test"
      ],
      "metadata": {
        "id": "DszYWaRhW46P"
      }
    },
    {
      "cell_type": "code",
      "source": [
        "num_contexts = 5\n",
        "num_actions = 4\n",
        "epochs = 50000\n",
        "lr = 0.01"
      ],
      "metadata": {
        "id": "n2PTE_pRWx0F"
      },
      "execution_count": 42,
      "outputs": []
    },
    {
      "cell_type": "code",
      "source": [
        "env = ContextualBandit(num_contexts, num_actions)"
      ],
      "metadata": {
        "id": "Dq9SiNd4XIQ0"
      },
      "execution_count": 43,
      "outputs": []
    },
    {
      "cell_type": "code",
      "source": [
        "epsilon_agent = EpsilonGreedyAgent(num_contexts, num_actions, lr)\n",
        "ucb_agent = UCBAgent(num_contexts, num_actions, lr)\n",
        "thompson_agent = ThompsonSamplingAgent(num_contexts, num_actions, lr)"
      ],
      "metadata": {
        "id": "eXXprXLAXKQH"
      },
      "execution_count": 66,
      "outputs": []
    },
    {
      "cell_type": "markdown",
      "source": [
        "### No-ES"
      ],
      "metadata": {
        "id": "9yXqSz6on3yx"
      }
    },
    {
      "cell_type": "code",
      "source": [
        "print(\"Training Epsilon Greedy Agent...\")\n",
        "epsilon_greedy_rewards = train_agent(agent=epsilon_agent, env=env, epochs=epochs, epsilon=0.01)"
      ],
      "metadata": {
        "colab": {
          "base_uri": "https://localhost:8080/"
        },
        "collapsed": true,
        "id": "lzVaWX11XOU3",
        "outputId": "24797645-e781-4e18-ae9a-f31b6ffc7e00"
      },
      "execution_count": 53,
      "outputs": [
        {
          "output_type": "stream",
          "name": "stdout",
          "text": [
            "Training Epsilon Greedy Agent...\n",
            "Epoch: 0, Loss: 0.007054356392472982, Average Reward: 0.0000\n",
            "Epoch: 1000, Loss: 0.026604877784848213, Average Reward: 0.7010\n",
            "Epoch: 2000, Loss: 0.5790708661079407, Average Reward: 0.7200\n",
            "Epoch: 3000, Loss: 0.06676391512155533, Average Reward: 0.7360\n",
            "Epoch: 4000, Loss: 0.025964628905057907, Average Reward: 0.7470\n",
            "Epoch: 5000, Loss: 0.8651401400566101, Average Reward: 0.7540\n",
            "Epoch: 6000, Loss: 0.0014081165427342057, Average Reward: 0.7340\n",
            "Epoch: 7000, Loss: 0.0026315238792449236, Average Reward: 0.7200\n",
            "Epoch: 8000, Loss: 0.07759363949298859, Average Reward: 0.7360\n",
            "Epoch: 9000, Loss: 0.0007811785326339304, Average Reward: 0.7450\n",
            "Epoch: 10000, Loss: 0.05027230083942413, Average Reward: 0.7420\n",
            "Epoch: 11000, Loss: 0.24832946062088013, Average Reward: 0.7820\n",
            "Epoch: 12000, Loss: 0.3727639317512512, Average Reward: 0.7270\n",
            "Epoch: 13000, Loss: 0.057962723076343536, Average Reward: 0.7680\n",
            "Epoch: 14000, Loss: 0.0549563430249691, Average Reward: 0.7610\n",
            "Epoch: 15000, Loss: 0.09378693252801895, Average Reward: 0.7530\n",
            "Epoch: 16000, Loss: 1.006384253501892, Average Reward: 0.7460\n",
            "Epoch: 17000, Loss: 0.22452744841575623, Average Reward: 0.7290\n",
            "Epoch: 18000, Loss: 0.047592032700777054, Average Reward: 0.7480\n",
            "Epoch: 19000, Loss: 0.05703730508685112, Average Reward: 0.7130\n",
            "Epoch: 20000, Loss: 0.6282590627670288, Average Reward: 0.7180\n",
            "Epoch: 21000, Loss: 0.13542485237121582, Average Reward: 0.7040\n",
            "Epoch: 22000, Loss: 0.001296855160035193, Average Reward: 0.7360\n",
            "Epoch: 23000, Loss: 0.022116972133517265, Average Reward: 0.7580\n",
            "Epoch: 24000, Loss: 0.40957945585250854, Average Reward: 0.7180\n",
            "Epoch: 25000, Loss: 0.0838121846318245, Average Reward: 0.7520\n",
            "Epoch: 26000, Loss: 0.16487425565719604, Average Reward: 0.7410\n",
            "Epoch: 27000, Loss: 0.3010082244873047, Average Reward: 0.7140\n",
            "Epoch: 28000, Loss: 0.06706488877534866, Average Reward: 0.7010\n",
            "Epoch: 29000, Loss: 0.4930100739002228, Average Reward: 0.7170\n",
            "Epoch: 30000, Loss: 0.5515015125274658, Average Reward: 0.7130\n",
            "Epoch: 31000, Loss: 0.07660133391618729, Average Reward: 0.7140\n",
            "Epoch: 32000, Loss: 0.023273460566997528, Average Reward: 0.7280\n",
            "Epoch: 33000, Loss: 0.08092054724693298, Average Reward: 0.7270\n",
            "Epoch: 34000, Loss: 0.15913763642311096, Average Reward: 0.7420\n",
            "Epoch: 35000, Loss: 0.0556829459965229, Average Reward: 0.7360\n",
            "Epoch: 36000, Loss: 0.006873228121548891, Average Reward: 0.7330\n",
            "Epoch: 37000, Loss: 0.07386304438114166, Average Reward: 0.7380\n",
            "Epoch: 38000, Loss: 0.014195965602993965, Average Reward: 0.7550\n",
            "Epoch: 39000, Loss: 0.13773272931575775, Average Reward: 0.7380\n",
            "Epoch: 40000, Loss: 0.030041225254535675, Average Reward: 0.7480\n",
            "Epoch: 41000, Loss: 0.05772578716278076, Average Reward: 0.7470\n",
            "Epoch: 42000, Loss: 0.5897271633148193, Average Reward: 0.7470\n",
            "Epoch: 43000, Loss: 0.029206519946455956, Average Reward: 0.7550\n",
            "Epoch: 44000, Loss: 0.10974418371915817, Average Reward: 0.7320\n",
            "Epoch: 45000, Loss: 0.08675307035446167, Average Reward: 0.7570\n",
            "Epoch: 46000, Loss: 0.02935982309281826, Average Reward: 0.7390\n",
            "Epoch: 47000, Loss: 0.08008754253387451, Average Reward: 0.7380\n",
            "Epoch: 48000, Loss: 0.009251100942492485, Average Reward: 0.7380\n",
            "Epoch: 49000, Loss: 0.029962101951241493, Average Reward: 0.7390\n"
          ]
        }
      ]
    },
    {
      "cell_type": "code",
      "source": [
        "print(\"\\nTraining UCB Agent...\")\n",
        "ucb_rewards = train_agent(agent=ucb_agent, env=env, epochs=epochs)"
      ],
      "metadata": {
        "colab": {
          "base_uri": "https://localhost:8080/"
        },
        "id": "X6L5bIkiXlb7",
        "outputId": "f052f6b1-2620-40f9-8edd-7818bf92bb54"
      },
      "execution_count": 54,
      "outputs": [
        {
          "output_type": "stream",
          "name": "stdout",
          "text": [
            "\n",
            "Training UCB Agent...\n",
            "Epoch: 0, Loss: 3.281111001968384, Average Reward: 0.0000\n",
            "Epoch: 1000, Loss: 0.989288330078125, Average Reward: 0.6600\n",
            "Epoch: 2000, Loss: 6.989405665080994e-05, Average Reward: 0.7280\n",
            "Epoch: 3000, Loss: 0.0313175804913044, Average Reward: 0.7400\n",
            "Epoch: 4000, Loss: 0.364268958568573, Average Reward: 0.7240\n",
            "Epoch: 5000, Loss: 0.11664117127656937, Average Reward: 0.7360\n",
            "Epoch: 6000, Loss: 0.08070871233940125, Average Reward: 0.7200\n",
            "Epoch: 7000, Loss: 0.47786062955856323, Average Reward: 0.7450\n",
            "Epoch: 8000, Loss: 0.10848025232553482, Average Reward: 0.7050\n",
            "Epoch: 9000, Loss: 0.04027457535266876, Average Reward: 0.7200\n",
            "Epoch: 10000, Loss: 0.046039436012506485, Average Reward: 0.6870\n",
            "Epoch: 11000, Loss: 0.0026352491695433855, Average Reward: 0.6330\n",
            "Epoch: 12000, Loss: 0.031544625759124756, Average Reward: 0.6940\n",
            "Epoch: 13000, Loss: 0.23518390953540802, Average Reward: 0.7090\n",
            "Epoch: 14000, Loss: 0.30255261063575745, Average Reward: 0.7210\n",
            "Epoch: 15000, Loss: 0.5352604985237122, Average Reward: 0.7180\n",
            "Epoch: 16000, Loss: 0.3070407211780548, Average Reward: 0.6830\n",
            "Epoch: 17000, Loss: 0.2900664210319519, Average Reward: 0.6830\n",
            "Epoch: 18000, Loss: 0.9410232305526733, Average Reward: 0.7400\n",
            "Epoch: 19000, Loss: 0.00674707256257534, Average Reward: 0.7210\n",
            "Epoch: 20000, Loss: 0.05826377496123314, Average Reward: 0.7220\n",
            "Epoch: 21000, Loss: 0.0615716427564621, Average Reward: 0.7120\n",
            "Epoch: 22000, Loss: 1.2170331501693e-05, Average Reward: 0.7080\n",
            "Epoch: 23000, Loss: 0.3827790915966034, Average Reward: 0.6880\n",
            "Epoch: 24000, Loss: 0.022100593894720078, Average Reward: 0.7390\n",
            "Epoch: 25000, Loss: 0.09985576570034027, Average Reward: 0.7330\n",
            "Epoch: 26000, Loss: 0.23843824863433838, Average Reward: 0.7250\n",
            "Epoch: 27000, Loss: 0.17528855800628662, Average Reward: 0.7150\n",
            "Epoch: 28000, Loss: 0.0201122909784317, Average Reward: 0.7200\n",
            "Epoch: 29000, Loss: 0.6652685403823853, Average Reward: 0.7090\n",
            "Epoch: 30000, Loss: 0.18872323632240295, Average Reward: 0.7280\n",
            "Epoch: 31000, Loss: 0.39514291286468506, Average Reward: 0.7230\n",
            "Epoch: 32000, Loss: 0.20811332762241364, Average Reward: 0.7200\n",
            "Epoch: 33000, Loss: 0.25286412239074707, Average Reward: 0.7050\n",
            "Epoch: 34000, Loss: 0.06312960386276245, Average Reward: 0.7080\n",
            "Epoch: 35000, Loss: 0.19358095526695251, Average Reward: 0.6880\n",
            "Epoch: 36000, Loss: 0.12420861423015594, Average Reward: 0.7270\n",
            "Epoch: 37000, Loss: 0.03125813975930214, Average Reward: 0.7010\n",
            "Epoch: 38000, Loss: 0.23853810131549835, Average Reward: 0.7030\n",
            "Epoch: 39000, Loss: 0.42017248272895813, Average Reward: 0.6360\n",
            "Epoch: 40000, Loss: 0.07802145928144455, Average Reward: 0.6750\n",
            "Epoch: 41000, Loss: 0.3453572392463684, Average Reward: 0.6480\n",
            "Epoch: 42000, Loss: 0.4056963622570038, Average Reward: 0.6860\n",
            "Epoch: 43000, Loss: 0.26731088757514954, Average Reward: 0.6620\n",
            "Epoch: 44000, Loss: 0.2842281460762024, Average Reward: 0.6440\n",
            "Epoch: 45000, Loss: 0.33668282628059387, Average Reward: 0.6270\n",
            "Epoch: 46000, Loss: 0.11832384765148163, Average Reward: 0.6500\n",
            "Epoch: 47000, Loss: 0.03060479275882244, Average Reward: 0.6550\n",
            "Epoch: 48000, Loss: 0.1998063623905182, Average Reward: 0.6610\n",
            "Epoch: 49000, Loss: 0.34007778763771057, Average Reward: 0.6120\n"
          ]
        }
      ]
    },
    {
      "cell_type": "code",
      "source": [
        "print(\"\\nTraining Thompson Sampling Agent...\")\n",
        "thompson_rewards = train_agent(agent=thompson_agent, env=env, epochs=epochs)"
      ],
      "metadata": {
        "colab": {
          "base_uri": "https://localhost:8080/"
        },
        "id": "bjp5G0a5XnNQ",
        "outputId": "49d447e5-5b9c-48d6-81d4-62cc320d7156"
      },
      "execution_count": 55,
      "outputs": [
        {
          "output_type": "stream",
          "name": "stdout",
          "text": [
            "\n",
            "Training Thompson Sampling Agent...\n",
            "Epoch: 0, Loss: 0.40366870164871216, Average Reward: 1.0000\n",
            "Epoch: 1000, Loss: 1.707030605757609e-08, Average Reward: 0.7240\n",
            "Epoch: 2000, Loss: 0.14703457057476044, Average Reward: 0.7460\n",
            "Epoch: 3000, Loss: 0.04205082729458809, Average Reward: 0.7580\n",
            "Epoch: 4000, Loss: 0.2985388934612274, Average Reward: 0.7300\n",
            "Epoch: 5000, Loss: 0.34438878297805786, Average Reward: 0.7490\n",
            "Epoch: 6000, Loss: 0.05896344408392906, Average Reward: 0.7730\n",
            "Epoch: 7000, Loss: 0.06978222727775574, Average Reward: 0.7600\n",
            "Epoch: 8000, Loss: 0.02090451493859291, Average Reward: 0.7540\n",
            "Epoch: 9000, Loss: 0.4154764711856842, Average Reward: 0.7890\n",
            "Epoch: 10000, Loss: 0.05562524124979973, Average Reward: 0.7710\n",
            "Epoch: 11000, Loss: 0.5617884397506714, Average Reward: 0.7940\n",
            "Epoch: 12000, Loss: 0.04462616145610809, Average Reward: 0.7880\n",
            "Epoch: 13000, Loss: 0.039205633103847504, Average Reward: 0.7820\n",
            "Epoch: 14000, Loss: 0.4831300377845764, Average Reward: 0.7580\n",
            "Epoch: 15000, Loss: 0.11682046204805374, Average Reward: 0.7730\n",
            "Epoch: 16000, Loss: 0.10735585540533066, Average Reward: 0.7650\n",
            "Epoch: 17000, Loss: 0.06449347734451294, Average Reward: 0.7540\n",
            "Epoch: 18000, Loss: 0.0493936762213707, Average Reward: 0.7800\n",
            "Epoch: 19000, Loss: 0.030751828104257584, Average Reward: 0.7870\n",
            "Epoch: 20000, Loss: 0.2882107198238373, Average Reward: 0.7870\n",
            "Epoch: 21000, Loss: 0.023644689470529556, Average Reward: 0.7850\n",
            "Epoch: 22000, Loss: 0.5494043231010437, Average Reward: 0.7710\n",
            "Epoch: 23000, Loss: 0.47217339277267456, Average Reward: 0.7580\n",
            "Epoch: 24000, Loss: 0.11271892488002777, Average Reward: 0.7640\n",
            "Epoch: 25000, Loss: 0.03818758949637413, Average Reward: 0.7450\n",
            "Epoch: 26000, Loss: 0.5230430960655212, Average Reward: 0.7810\n",
            "Epoch: 27000, Loss: 0.009230737574398518, Average Reward: 0.7630\n",
            "Epoch: 28000, Loss: 0.12126820534467697, Average Reward: 0.7720\n",
            "Epoch: 29000, Loss: 0.005405304953455925, Average Reward: 0.7840\n",
            "Epoch: 30000, Loss: 0.15317994356155396, Average Reward: 0.7620\n",
            "Epoch: 31000, Loss: 0.006547859869897366, Average Reward: 0.7660\n",
            "Epoch: 32000, Loss: 0.011676423251628876, Average Reward: 0.7840\n",
            "Epoch: 33000, Loss: 0.08494839817285538, Average Reward: 0.7800\n",
            "Epoch: 34000, Loss: 0.6295077800750732, Average Reward: 0.8010\n",
            "Epoch: 35000, Loss: 0.05666612088680267, Average Reward: 0.7520\n",
            "Epoch: 36000, Loss: 0.004384557716548443, Average Reward: 0.7750\n",
            "Epoch: 37000, Loss: 0.04753764346241951, Average Reward: 0.7470\n",
            "Epoch: 38000, Loss: 0.057129018008708954, Average Reward: 0.7410\n",
            "Epoch: 39000, Loss: 0.40988782048225403, Average Reward: 0.7680\n",
            "Epoch: 40000, Loss: 0.020471220836043358, Average Reward: 0.7750\n",
            "Epoch: 41000, Loss: 0.02598845213651657, Average Reward: 0.7620\n",
            "Epoch: 42000, Loss: 0.022495325654745102, Average Reward: 0.7710\n",
            "Epoch: 43000, Loss: 0.023518908768892288, Average Reward: 0.7620\n",
            "Epoch: 44000, Loss: 0.018384087830781937, Average Reward: 0.7660\n",
            "Epoch: 45000, Loss: 0.5710688829421997, Average Reward: 0.7660\n",
            "Epoch: 46000, Loss: 0.015539554879069328, Average Reward: 0.7740\n",
            "Epoch: 47000, Loss: 0.06649559736251831, Average Reward: 0.7820\n",
            "Epoch: 48000, Loss: 0.048865221440792084, Average Reward: 0.7910\n",
            "Epoch: 49000, Loss: 0.563101053237915, Average Reward: 0.7510\n"
          ]
        }
      ]
    },
    {
      "cell_type": "markdown",
      "source": [
        "###  ES"
      ],
      "metadata": {
        "id": "AnBd4Z2loeIq"
      }
    },
    {
      "cell_type": "code",
      "source": [
        "print(\"Training Epsilon Greedy Agent...\")\n",
        "epsilon_greedy_rewards = train_agent(agent=epsilon_agent, env=env, epochs=epochs, epsilon=0.01)"
      ],
      "metadata": {
        "colab": {
          "base_uri": "https://localhost:8080/"
        },
        "id": "6-5NEdpOohcl",
        "outputId": "e9e9f10a-30a1-4c69-98f3-3a608ff4e784"
      },
      "execution_count": 67,
      "outputs": [
        {
          "output_type": "stream",
          "name": "stdout",
          "text": [
            "Training Epsilon Greedy Agent...\n",
            "Epoch: 0, Loss: 0.0743, Average Reward: 1.0000\n",
            "Epoch: 1000, Loss: 0.0673, Average Reward: 0.7580\n",
            "Epoch: 2000, Loss: 0.5712, Average Reward: 0.7360\n",
            "Epoch: 3000, Loss: 0.0022, Average Reward: 0.7520\n",
            "Epoch: 4000, Loss: 0.6675, Average Reward: 0.7190\n",
            "Epoch: 5000, Loss: 0.4838, Average Reward: 0.7450\n",
            "Epoch: 6000, Loss: 0.0045, Average Reward: 0.7420\n",
            "Epoch: 7000, Loss: 0.0395, Average Reward: 0.7150\n",
            "Epoch: 8000, Loss: 0.2462, Average Reward: 0.7550\n",
            "Epoch: 9000, Loss: 0.0057, Average Reward: 0.7520\n",
            "Epoch: 10000, Loss: 0.6519, Average Reward: 0.7400\n",
            "Epoch: 11000, Loss: 0.0200, Average Reward: 0.7400\n",
            "Epoch: 12000, Loss: 0.0014, Average Reward: 0.7620\n",
            "Epoch: 13000, Loss: 0.0030, Average Reward: 0.7300\n",
            "Epoch: 14000, Loss: 0.0639, Average Reward: 0.7540\n",
            "Epoch: 15000, Loss: 0.0091, Average Reward: 0.7090\n",
            "Epoch: 16000, Loss: 0.6256, Average Reward: 0.7160\n",
            "Epoch: 17000, Loss: 0.1260, Average Reward: 0.7090\n",
            "Epoch: 18000, Loss: 0.0937, Average Reward: 0.7370\n",
            "Epoch: 19000, Loss: 0.0039, Average Reward: 0.7060\n",
            "Epoch: 20000, Loss: 0.2025, Average Reward: 0.7340\n",
            "Epoch: 21000, Loss: 0.0021, Average Reward: 0.7430\n",
            "Epoch: 22000, Loss: 0.0861, Average Reward: 0.7040\n",
            "Epoch: 23000, Loss: 0.0863, Average Reward: 0.7490\n",
            "Epoch: 24000, Loss: 0.0330, Average Reward: 0.7240\n",
            "Epoch: 25000, Loss: 0.1504, Average Reward: 0.7190\n",
            "Epoch: 26000, Loss: 0.0103, Average Reward: 0.7550\n",
            "Epoch: 27000, Loss: 0.0926, Average Reward: 0.7280\n",
            "Epoch: 28000, Loss: 0.0773, Average Reward: 0.7440\n",
            "Epoch: 29000, Loss: 0.0696, Average Reward: 0.7310\n",
            "Epoch: 30000, Loss: 0.0663, Average Reward: 0.7350\n",
            "Epoch: 31000, Loss: 0.6736, Average Reward: 0.7370\n",
            "Epoch: 32000, Loss: 0.1223, Average Reward: 0.7260\n",
            "Epoch: 33000, Loss: 0.0705, Average Reward: 0.7470\n",
            "Epoch: 34000, Loss: 0.0015, Average Reward: 0.7700\n",
            "Epoch: 35000, Loss: 0.0843, Average Reward: 0.7740\n",
            "Epoch: 36000, Loss: 0.2949, Average Reward: 0.7500\n",
            "Epoch: 37000, Loss: 0.0289, Average Reward: 0.7570\n",
            "Epoch: 38000, Loss: 0.0414, Average Reward: 0.7730\n",
            "Epoch: 39000, Loss: 0.5550, Average Reward: 0.7870\n",
            "Epoch: 40000, Loss: 0.0283, Average Reward: 0.7590\n",
            "Epoch: 41000, Loss: 0.1195, Average Reward: 0.7330\n",
            "Epoch: 42000, Loss: 0.0001, Average Reward: 0.7590\n",
            "Epoch: 43000, Loss: 0.0369, Average Reward: 0.7760\n",
            "Epoch: 44000, Loss: 0.0837, Average Reward: 0.7540\n",
            "Epoch: 45000, Loss: 0.0008, Average Reward: 0.7800\n",
            "Epoch: 46000, Loss: 0.6070, Average Reward: 0.7290\n",
            "Epoch: 47000, Loss: 0.4074, Average Reward: 0.6980\n",
            "Epoch: 48000, Loss: 0.7830, Average Reward: 0.6980\n",
            "Epoch: 49000, Loss: 0.0165, Average Reward: 0.7300\n"
          ]
        }
      ]
    },
    {
      "cell_type": "code",
      "source": [
        "print(\"\\nTraining UCB Agent...\")\n",
        "ucb_rewards = train_agent(agent=ucb_agent, env=env, epochs=epochs)"
      ],
      "metadata": {
        "colab": {
          "base_uri": "https://localhost:8080/"
        },
        "id": "-tE9x5_Cokwl",
        "outputId": "0f36753e-5b28-4fa6-d74f-6cff6ca4dbb6"
      },
      "execution_count": 68,
      "outputs": [
        {
          "output_type": "stream",
          "name": "stdout",
          "text": [
            "\n",
            "Training UCB Agent...\n",
            "Epoch: 0, Loss: 0.3328, Average Reward: 0.0000\n",
            "Epoch: 1000, Loss: 0.2819, Average Reward: 0.6870\n",
            "Epoch: 2000, Loss: 0.2729, Average Reward: 0.7070\n",
            "Epoch: 3000, Loss: 0.0180, Average Reward: 0.6640\n",
            "Epoch: 4000, Loss: 0.2600, Average Reward: 0.7020\n",
            "Epoch: 5000, Loss: 0.5518, Average Reward: 0.7510\n",
            "Epoch: 6000, Loss: 0.0030, Average Reward: 0.7120\n",
            "Epoch: 7000, Loss: 0.6706, Average Reward: 0.7100\n",
            "Epoch: 8000, Loss: 0.0080, Average Reward: 0.7430\n",
            "Epoch: 9000, Loss: 0.1493, Average Reward: 0.7390\n",
            "Epoch: 10000, Loss: 0.6102, Average Reward: 0.7080\n",
            "Epoch: 11000, Loss: 0.7703, Average Reward: 0.7010\n",
            "Epoch: 12000, Loss: 0.0834, Average Reward: 0.7380\n",
            "Epoch: 13000, Loss: 0.6710, Average Reward: 0.7590\n",
            "Epoch: 14000, Loss: 0.0522, Average Reward: 0.7590\n",
            "Epoch: 15000, Loss: 0.5686, Average Reward: 0.7520\n",
            "Epoch: 16000, Loss: 0.0020, Average Reward: 0.6970\n",
            "Epoch: 17000, Loss: 0.1958, Average Reward: 0.7230\n",
            "Epoch: 18000, Loss: 0.0283, Average Reward: 0.7440\n",
            "Epoch: 19000, Loss: 0.0238, Average Reward: 0.7320\n",
            "Epoch: 20000, Loss: 0.0463, Average Reward: 0.7520\n",
            "Epoch: 21000, Loss: 0.0068, Average Reward: 0.7320\n",
            "Epoch: 22000, Loss: 0.0481, Average Reward: 0.7320\n",
            "Epoch: 23000, Loss: 0.1596, Average Reward: 0.7150\n",
            "Epoch: 24000, Loss: 0.1216, Average Reward: 0.6760\n",
            "Epoch: 25000, Loss: 0.2852, Average Reward: 0.6680\n",
            "Epoch: 26000, Loss: 0.3747, Average Reward: 0.6950\n",
            "Epoch: 27000, Loss: 0.2164, Average Reward: 0.6750\n",
            "Epoch: 28000, Loss: 0.1677, Average Reward: 0.6780\n",
            "Epoch: 29000, Loss: 0.1551, Average Reward: 0.6520\n",
            "Epoch: 30000, Loss: 0.2592, Average Reward: 0.6450\n",
            "Epoch: 31000, Loss: 0.0118, Average Reward: 0.6710\n",
            "Epoch: 32000, Loss: 0.0952, Average Reward: 0.6490\n",
            "Epoch: 33000, Loss: 0.1441, Average Reward: 0.6460\n",
            "Epoch: 34000, Loss: 0.4257, Average Reward: 0.6450\n",
            "Epoch: 35000, Loss: 0.0004, Average Reward: 0.6150\n",
            "Epoch: 36000, Loss: 0.1697, Average Reward: 0.6520\n",
            "Epoch: 37000, Loss: 0.2011, Average Reward: 0.6740\n",
            "Epoch: 38000, Loss: 0.1150, Average Reward: 0.6580\n",
            "Epoch: 39000, Loss: 0.0619, Average Reward: 0.6670\n",
            "Epoch: 40000, Loss: 0.3582, Average Reward: 0.7030\n",
            "Epoch: 41000, Loss: 0.0469, Average Reward: 0.6480\n",
            "Epoch: 42000, Loss: 0.4107, Average Reward: 0.6470\n",
            "Epoch: 43000, Loss: 0.0701, Average Reward: 0.6850\n",
            "Epoch: 44000, Loss: 0.1726, Average Reward: 0.6880\n",
            "Epoch: 45000, Loss: 0.3101, Average Reward: 0.6710\n",
            "Epoch: 46000, Loss: 0.5720, Average Reward: 0.6710\n",
            "Epoch: 47000, Loss: 0.1825, Average Reward: 0.6700\n",
            "Epoch: 48000, Loss: 0.4011, Average Reward: 0.6780\n",
            "Epoch: 49000, Loss: 0.3846, Average Reward: 0.6560\n"
          ]
        }
      ]
    },
    {
      "cell_type": "code",
      "source": [
        "print(\"\\nTraining Thompson Sampling Agent...\")\n",
        "thompson_rewards = train_agent(agent=thompson_agent, env=env, epochs=epochs)"
      ],
      "metadata": {
        "colab": {
          "base_uri": "https://localhost:8080/"
        },
        "id": "QhisgVVxooKD",
        "outputId": "78efe8ec-deb6-4356-f57f-64eb125c8d9d"
      },
      "execution_count": 69,
      "outputs": [
        {
          "output_type": "stream",
          "name": "stdout",
          "text": [
            "\n",
            "Training Thompson Sampling Agent...\n",
            "Epoch: 0, Loss: 1.4448, Average Reward: 1.0000\n",
            "Epoch: 1000, Loss: 0.0747, Average Reward: 0.7520\n",
            "Epoch: 2000, Loss: 0.1155, Average Reward: 0.7390\n",
            "Epoch: 3000, Loss: 0.0210, Average Reward: 0.7410\n",
            "Epoch: 4000, Loss: 0.0003, Average Reward: 0.7330\n",
            "Epoch: 5000, Loss: 0.0404, Average Reward: 0.7620\n",
            "Epoch: 6000, Loss: 0.0784, Average Reward: 0.8010\n",
            "Epoch: 7000, Loss: 0.1092, Average Reward: 0.7410\n",
            "Epoch: 8000, Loss: 0.0020, Average Reward: 0.7530\n",
            "Epoch: 9000, Loss: 0.0935, Average Reward: 0.7780\n",
            "Epoch: 10000, Loss: 0.0602, Average Reward: 0.7710\n",
            "Epoch: 11000, Loss: 0.0729, Average Reward: 0.7800\n",
            "Epoch: 12000, Loss: 0.0192, Average Reward: 0.7650\n",
            "Epoch: 13000, Loss: 0.5611, Average Reward: 0.7660\n",
            "Epoch: 14000, Loss: 0.0487, Average Reward: 0.7740\n",
            "Epoch: 15000, Loss: 0.1037, Average Reward: 0.7430\n",
            "Epoch: 16000, Loss: 0.0291, Average Reward: 0.7820\n",
            "Epoch: 17000, Loss: 0.2428, Average Reward: 0.7640\n",
            "Epoch: 18000, Loss: 0.0210, Average Reward: 0.7490\n",
            "Epoch: 19000, Loss: 0.1160, Average Reward: 0.7720\n",
            "Epoch: 20000, Loss: 0.0408, Average Reward: 0.7800\n",
            "Epoch: 21000, Loss: 0.5364, Average Reward: 0.7940\n",
            "Epoch: 22000, Loss: 0.0697, Average Reward: 0.7810\n",
            "Epoch: 23000, Loss: 0.9494, Average Reward: 0.7680\n",
            "Epoch: 24000, Loss: 0.0710, Average Reward: 0.7640\n",
            "Epoch: 25000, Loss: 0.7032, Average Reward: 0.7740\n",
            "Epoch: 26000, Loss: 0.3774, Average Reward: 0.7630\n",
            "Epoch: 27000, Loss: 0.0607, Average Reward: 0.7840\n",
            "Epoch: 28000, Loss: 0.0693, Average Reward: 0.7630\n",
            "Epoch: 29000, Loss: 0.0184, Average Reward: 0.7360\n",
            "Epoch: 30000, Loss: 0.0271, Average Reward: 0.7480\n",
            "Epoch: 31000, Loss: 0.0326, Average Reward: 0.7870\n",
            "Epoch: 32000, Loss: 0.0899, Average Reward: 0.7660\n",
            "Epoch: 33000, Loss: 0.0000, Average Reward: 0.7710\n",
            "Epoch: 34000, Loss: 0.0549, Average Reward: 0.7660\n",
            "Epoch: 35000, Loss: 0.0576, Average Reward: 0.7530\n",
            "Epoch: 36000, Loss: 0.0075, Average Reward: 0.7870\n",
            "Epoch: 37000, Loss: 0.0241, Average Reward: 0.7680\n",
            "Epoch: 38000, Loss: 0.0473, Average Reward: 0.7680\n",
            "Epoch: 39000, Loss: 0.1174, Average Reward: 0.7640\n",
            "Epoch: 40000, Loss: 0.0134, Average Reward: 0.7800\n",
            "Epoch: 41000, Loss: 0.1859, Average Reward: 0.7650\n",
            "Epoch: 42000, Loss: 0.6657, Average Reward: 0.7590\n",
            "Epoch: 43000, Loss: 0.3193, Average Reward: 0.7490\n",
            "Epoch: 44000, Loss: 0.6338, Average Reward: 0.7710\n",
            "Epoch: 45000, Loss: 0.0450, Average Reward: 0.7540\n",
            "Epoch: 46000, Loss: 0.7843, Average Reward: 0.8060\n",
            "Epoch: 47000, Loss: 0.0482, Average Reward: 0.8060\n",
            "Epoch: 48000, Loss: 0.0083, Average Reward: 0.7650\n",
            "Epoch: 49000, Loss: 0.3775, Average Reward: 0.7750\n"
          ]
        }
      ]
    },
    {
      "cell_type": "markdown",
      "source": [
        "##Results"
      ],
      "metadata": {
        "id": "omZ4O_66Xxpy"
      }
    },
    {
      "cell_type": "markdown",
      "source": [
        "### Prioir Early Stop"
      ],
      "metadata": {
        "id": "5GZ7g6Tkntlk"
      }
    },
    {
      "cell_type": "code",
      "source": [
        "plot_results(epsilon_greedy_rewards, ucb_rewards, thompson_rewards)"
      ],
      "metadata": {
        "colab": {
          "base_uri": "https://localhost:8080/",
          "height": 564
        },
        "id": "1HQKz3tmX4au",
        "outputId": "47a4b40b-6b73-4f08-8b8c-7cd28235f92a"
      },
      "execution_count": 56,
      "outputs": [
        {
          "output_type": "display_data",
          "data": {
            "text/plain": [
              "<Figure size 1200x600 with 1 Axes>"
            ],
            "image/png": "[encoded data removed]"
          },
          "metadata": {}
        }
      ]
    },
    {
      "cell_type": "markdown",
      "source": [
        "### Post Early Stop"
      ],
      "metadata": {
        "id": "vsdr0H_CnxMY"
      }
    },
    {
      "cell_type": "code",
      "source": [
        "plot_results(epsilon_greedy_rewards, ucb_rewards, thompson_rewards)"
      ],
      "metadata": {
        "colab": {
          "base_uri": "https://localhost:8080/",
          "height": 564
        },
        "id": "w1JHkBQ0nzaT",
        "outputId": "016ce788-c6ba-477b-94f9-5be3a3799868"
      },
      "execution_count": 71,
      "outputs": [
        {
          "output_type": "display_data",
          "data": {
            "text/plain": [
              "<Figure size 1200x600 with 1 Axes>"
            ],
            "image/png": "[encoded data removed]"
          },
          "metadata": {}
        }
      ]
    }
  ]
}